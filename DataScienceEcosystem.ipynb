{
 "cells": [
  {
   "cell_type": "markdown",
   "id": "64be862c-7125-4183-90a0-5feb8446dcbd",
   "metadata": {},
   "source": [
    "# Data Science Tools and Ecosystem"
   ]
  },
  {
   "cell_type": "markdown",
   "id": "5eee05ec-3216-4d50-9553-25cf40720be3",
   "metadata": {},
   "source": [
    "In this notebook, Data Science Tools and Ecosystem are summarized."
   ]
  },
  {
   "cell_type": "markdown",
   "id": "e8f23770-44d9-40df-83c2-d480337a9eb3",
   "metadata": {},
   "source": [
    "**Objectives:**\n",
    "+ Popular languages that Data Scientists use\n",
    "+ Commonly used libraries used by Data Scientists\n",
    "+ Data Science Tools"
   ]
  },
  {
   "cell_type": "markdown",
   "id": "4fa0752a-39c2-4c15-b693-bdb098e667d8",
   "metadata": {},
   "source": [
    "Some of the popular languages that Data Scientists use are:\r\n",
    "\r\n",
    "1. Python\r\n",
    "2. C++\r\n",
    "3. Java\r",
    "4. R "
   ]
  },
  {
   "cell_type": "markdown",
   "id": "636c8c45-5941-48a7-bfda-725bbe795996",
   "metadata": {},
   "source": [
    "Some of the commonly used libraries used by Data Scientists include:\n",
    "\n",
    "1. Pandas\n",
    "2. NumPy\n",
    "3. TensorFlow\n",
    "4. Matplotlib"
   ]
  },
  {
   "cell_type": "markdown",
   "id": "3c00e285-9537-42a3-9785-f9f5359344c2",
   "metadata": {},
   "source": [
    "| Data Science Tools |\r\n",
    "| ------------------ |\r\n",
    "| Apache Hadoop |\r\n",
    "| TensorFlow |\r\n",
    "| Apache Spark |\r\n",
    "| RStudio |"
   ]
  },
  {
   "cell_type": "markdown",
   "id": "8c94f90d-204f-48ba-8ba1-a318a1e0b8cb",
   "metadata": {},
   "source": [
    "### Below are a few examples of evaluating arithmetic expressions in Python"
   ]
  },
  {
   "cell_type": "code",
   "execution_count": 15,
   "id": "37d5e49c-7840-402f-9043-58a03407754d",
   "metadata": {},
   "outputs": [
    {
     "data": {
      "text/plain": [
       "17"
      ]
     },
     "execution_count": 15,
     "metadata": {},
     "output_type": "execute_result"
    }
   ],
   "source": [
    "#This a simple arithmetic expression to mutiply then add integers\n",
    "\n",
    "(3*4)+5"
   ]
  },
  {
   "cell_type": "code",
   "execution_count": 17,
   "id": "e3ba8097-20c1-45db-b34d-bc110755dec7",
   "metadata": {},
   "outputs": [
    {
     "name": "stdout",
     "output_type": "stream",
     "text": [
      "3.3333333333333335\n"
     ]
    }
   ],
   "source": [
    "#Create a code cell to convert minutes to hours\n",
    "\n",
    "minutes = 200\n",
    "hour = minutes/60\n",
    "\n",
    "print(hour)"
   ]
  },
  {
   "cell_type": "markdown",
   "id": "1733ed53-48d4-49ea-85a8-69175df04917",
   "metadata": {},
   "source": [
    "## Author\r\n",
    "Shashank"
   ]
  },
  {
   "cell_type": "code",
   "execution_count": null,
   "id": "b3fd68e0-9a4d-4a9a-820d-50a7512939ed",
   "metadata": {},
   "outputs": [],
   "source": []
  }
 ],
 "metadata": {
  "kernelspec": {
   "display_name": "Python 3 (ipykernel)",
   "language": "python",
   "name": "python3"
  },
  "language_info": {
   "codemirror_mode": {
    "name": "ipython",
    "version": 3
   },
   "file_extension": ".py",
   "mimetype": "text/x-python",
   "name": "python",
   "nbconvert_exporter": "python",
   "pygments_lexer": "ipython3",
   "version": "3.11.7"
  }
 },
 "nbformat": 4,
 "nbformat_minor": 5
}
